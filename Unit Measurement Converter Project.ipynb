{
 "cells": [
  {
   "cell_type": "code",
   "execution_count": null,
   "id": "4503008f",
   "metadata": {},
   "outputs": [],
   "source": [
    "convert_from = input(\"Enter starting unit of measurement(inches, feet, yards): \")\n",
    "\n",
    "convert_to = input(\"Enter unit of measurement to convert to(inches, feet, yards): \")\n",
    "\n",
    "number_of_inches = input(\"Enter starting measurement in Inches: \")\n",
    "\n",
    "number_of_feet = input(\"Enter starting measurement in Feet: \")\n",
    "\n",
    "number_of_yards = input(\"Enter starting measurement in Yards: \")\n"
   ]
  },
  {
   "cell_type": "code",
   "execution_count": 13,
   "id": "3550f589",
   "metadata": {},
   "outputs": [
    {
     "name": "stdout",
     "output_type": "stream",
     "text": [
      "Enter starting unit of measurement(inches, feet, yards): feet\n",
      "Enter unit of measurement to convert to(inches, feet, yards): yards\n",
      "Enter starting measurement in Feet: 245\n",
      "Result: 245Feet =81.67Yards\n"
     ]
    }
   ],
   "source": [
    "convert_from = input(\"Enter starting unit of measurement(inches, feet, yards): \")\n",
    "\n",
    "convert_to = input(\"Enter unit of measurement to convert to(inches, feet, yards): \")\n",
    "\n",
    "if convert_from.lower() in [\"inches\", \"in\", \"inch\"]:\n",
    "    number_of_inches = int(input(\"Enter starting measurement in Inches: \"))\n",
    "    if convert_to.lower() in [\"feet\", \"foot\", \"ft\"]:\n",
    "        print(\"Result: \" + str(number_of_inches) + \"Inches =\" + str(round(number_of_inches/12,2)) + \"Feet\")\n",
    "    elif convert_to.lower() in [\"yards\", \"yard\", \"yd\", \"yds\"]:\n",
    "        print(\"Result: \" + str(number_of_inches) + \"Inches =\" + str(round(number_of_inches/36,2)) + \"Yards\")\n",
    "    else:\n",
    "        print(\"Please Enter either Inches, Feet, or Yards.\")\n",
    "elif convert_from.lower() in [\"feet\", \"foot\", \"ft\"]:\n",
    "    number_of_feet = int(input(\"Enter starting measurement in Feet: \"))\n",
    "    if convert_to.lower() in [\"inches\", \"in\", \"inch\"]:\n",
    "        print(\"Result: \" + str(number_of_feet) + \"Feet =\" + str(round(number_of_feet/12,2)) + \"Inches\")\n",
    "    elif convert_to.lower() in [\"yards\", \"yard\", \"yd\", \"yds\"]:\n",
    "         print(\"Result: \" + str(number_of_feet) + \"Feet =\" + str(round(number_of_feet/3,2)) + \"Yards\")\n",
    "    else:\n",
    "        print(\"Please Enter either Inches, Feet, or Yards.\")\n",
    "elif convert_from.lower() in [\"yards\", \"yard\", \"yd\", \"yds\"]:\n",
    "    number_of_yards = int(input(\"Enter starting measurement in Yards: \"))\n",
    "    if convert_to.lower() in [\"inches\", \"in\", \"inch\"]:\n",
    "         print(\"Result: \" + str(number_of_yards) + \"Yards =\" + str(round(number_of_yards*36)) + \"Inches\")\n",
    "    elif convert_to.lower() in [\"feet\", \"foot\", \"ft\"]:\n",
    "        print(\"Result: \" + str(number_of_yards) + \"Yards =\" + str(round(number_of_yards*3)) + \"Feet\")\n",
    "    else:\n",
    "        print(\"Please Enter either Inches, Feet, or Yards.\")\n",
    "        \n",
    "else: \n",
    "    print(\"Please Enter either Inches, Feet, or Yards.\")"
   ]
  },
  {
   "cell_type": "code",
   "execution_count": null,
   "id": "9f24f21c",
   "metadata": {},
   "outputs": [],
   "source": []
  },
  {
   "cell_type": "code",
   "execution_count": null,
   "id": "1d090d2b",
   "metadata": {},
   "outputs": [],
   "source": []
  },
  {
   "cell_type": "code",
   "execution_count": null,
   "id": "31ca2ff1",
   "metadata": {},
   "outputs": [],
   "source": []
  },
  {
   "cell_type": "code",
   "execution_count": null,
   "id": "3a2fe9f1",
   "metadata": {},
   "outputs": [],
   "source": []
  },
  {
   "cell_type": "code",
   "execution_count": null,
   "id": "b98aa0e6",
   "metadata": {},
   "outputs": [],
   "source": []
  },
  {
   "cell_type": "code",
   "execution_count": null,
   "id": "d75616f0",
   "metadata": {},
   "outputs": [],
   "source": []
  },
  {
   "cell_type": "code",
   "execution_count": null,
   "id": "76fb414d",
   "metadata": {},
   "outputs": [],
   "source": []
  },
  {
   "cell_type": "code",
   "execution_count": null,
   "id": "9d24eba2",
   "metadata": {},
   "outputs": [],
   "source": []
  }
 ],
 "metadata": {
  "kernelspec": {
   "display_name": "Python 3 (ipykernel)",
   "language": "python",
   "name": "python3"
  },
  "language_info": {
   "codemirror_mode": {
    "name": "ipython",
    "version": 3
   },
   "file_extension": ".py",
   "mimetype": "text/x-python",
   "name": "python",
   "nbconvert_exporter": "python",
   "pygments_lexer": "ipython3",
   "version": "3.9.12"
  }
 },
 "nbformat": 4,
 "nbformat_minor": 5
}
